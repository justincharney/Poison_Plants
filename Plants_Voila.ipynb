{
  "nbformat": 4,
  "nbformat_minor": 0,
  "metadata": {
    "colab": {
      "name": "Plants_Voila.ipynb",
      "provenance": []
    },
    "kernelspec": {
      "name": "python3",
      "display_name": "Python 3"
    },
    "accelerator": "GPU",
    "widgets": {
      "application/vnd.jupyter.widget-state+json": {
        "cd520fda4d15408aba7e2e7def61fef6": {
          "model_module": "@jupyter-widgets/controls",
          "model_name": "FileUploadModel",
          "state": {
            "_view_name": "FileUploadView",
            "_counter": 1,
            "style": "IPY_MODEL_593112fd1cb24d679eb3d7182d33e223",
            "_dom_classes": [],
            "description": "Upload",
            "multiple": false,
            "_model_name": "FileUploadModel",
            "data": [
              null
            ],
            "button_style": "",
            "_view_module": "@jupyter-widgets/controls",
            "_model_module_version": "1.5.0",
            "accept": "",
            "_view_count": null,
            "disabled": false,
            "_view_module_version": "1.5.0",
            "error": "",
            "description_tooltip": null,
            "metadata": [
              {
                "name": "wild-grapes.jpg",
                "type": "image/jpeg",
                "size": 196319,
                "lastModified": 1612232084000
              }
            ],
            "_model_module": "@jupyter-widgets/controls",
            "layout": "IPY_MODEL_b505f3df5f9c4088954fd8b532b0b94c",
            "icon": "upload"
          }
        },
        "593112fd1cb24d679eb3d7182d33e223": {
          "model_module": "@jupyter-widgets/controls",
          "model_name": "ButtonStyleModel",
          "state": {
            "_view_name": "StyleView",
            "_model_name": "ButtonStyleModel",
            "_view_module": "@jupyter-widgets/base",
            "_model_module_version": "1.5.0",
            "_view_count": null,
            "button_color": null,
            "font_weight": "",
            "_view_module_version": "1.2.0",
            "_model_module": "@jupyter-widgets/controls"
          }
        },
        "b505f3df5f9c4088954fd8b532b0b94c": {
          "model_module": "@jupyter-widgets/base",
          "model_name": "LayoutModel",
          "state": {
            "_view_name": "LayoutView",
            "grid_template_rows": null,
            "right": null,
            "justify_content": null,
            "_view_module": "@jupyter-widgets/base",
            "overflow": null,
            "_model_module_version": "1.2.0",
            "_view_count": null,
            "flex_flow": null,
            "width": null,
            "min_width": null,
            "border": null,
            "align_items": null,
            "bottom": null,
            "_model_module": "@jupyter-widgets/base",
            "top": null,
            "grid_column": null,
            "overflow_y": null,
            "overflow_x": null,
            "grid_auto_flow": null,
            "grid_area": null,
            "grid_template_columns": null,
            "flex": null,
            "_model_name": "LayoutModel",
            "justify_items": null,
            "grid_row": null,
            "max_height": null,
            "align_content": null,
            "visibility": null,
            "align_self": null,
            "height": null,
            "min_height": null,
            "padding": null,
            "grid_auto_rows": null,
            "grid_gap": null,
            "max_width": null,
            "order": null,
            "_view_module_version": "1.2.0",
            "grid_template_areas": null,
            "object_position": null,
            "object_fit": null,
            "grid_auto_columns": null,
            "margin": null,
            "display": null,
            "left": null
          }
        },
        "2e33f2ed17bb44bfb933521c33ae1784": {
          "model_module": "@jupyter-widgets/output",
          "model_name": "OutputModel",
          "state": {
            "_view_name": "OutputView",
            "msg_id": "",
            "_dom_classes": [],
            "_model_name": "OutputModel",
            "outputs": [
              {
                "output_type": "display_data",
                "metadata": {
                  "tags": []
                },
                "image/png": "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\n",
                "text/plain": "<PIL.Image.Image image mode=RGB size=128x85 at 0x7F8D39C3AEF0>"
              }
            ],
            "_view_module": "@jupyter-widgets/output",
            "_model_module_version": "1.0.0",
            "_view_count": null,
            "_view_module_version": "1.0.0",
            "layout": "IPY_MODEL_b65ebe55f67d435b9823f0f54440835e",
            "_model_module": "@jupyter-widgets/output"
          }
        },
        "b65ebe55f67d435b9823f0f54440835e": {
          "model_module": "@jupyter-widgets/base",
          "model_name": "LayoutModel",
          "state": {
            "_view_name": "LayoutView",
            "grid_template_rows": null,
            "right": null,
            "justify_content": null,
            "_view_module": "@jupyter-widgets/base",
            "overflow": null,
            "_model_module_version": "1.2.0",
            "_view_count": null,
            "flex_flow": null,
            "width": null,
            "min_width": null,
            "border": null,
            "align_items": null,
            "bottom": null,
            "_model_module": "@jupyter-widgets/base",
            "top": null,
            "grid_column": null,
            "overflow_y": null,
            "overflow_x": null,
            "grid_auto_flow": null,
            "grid_area": null,
            "grid_template_columns": null,
            "flex": null,
            "_model_name": "LayoutModel",
            "justify_items": null,
            "grid_row": null,
            "max_height": null,
            "align_content": null,
            "visibility": null,
            "align_self": null,
            "height": null,
            "min_height": null,
            "padding": null,
            "grid_auto_rows": null,
            "grid_gap": null,
            "max_width": null,
            "order": null,
            "_view_module_version": "1.2.0",
            "grid_template_areas": null,
            "object_position": null,
            "object_fit": null,
            "grid_auto_columns": null,
            "margin": null,
            "display": null,
            "left": null
          }
        },
        "01e37ab89b734c5b8b0f3ddc638ac280": {
          "model_module": "@jupyter-widgets/controls",
          "model_name": "LabelModel",
          "state": {
            "_view_name": "LabelView",
            "style": "IPY_MODEL_f651b01c13554332b55dc843fcd18d33",
            "_dom_classes": [],
            "description": "",
            "_model_name": "LabelModel",
            "placeholder": "​",
            "_view_module": "@jupyter-widgets/controls",
            "_model_module_version": "1.5.0",
            "value": "Prediction: wild grapes; Probability: 0.9865",
            "_view_count": null,
            "_view_module_version": "1.5.0",
            "description_tooltip": null,
            "_model_module": "@jupyter-widgets/controls",
            "layout": "IPY_MODEL_097a7bd2e4d641a9baf5eb1020cd46f9"
          }
        },
        "f651b01c13554332b55dc843fcd18d33": {
          "model_module": "@jupyter-widgets/controls",
          "model_name": "DescriptionStyleModel",
          "state": {
            "_view_name": "StyleView",
            "_model_name": "DescriptionStyleModel",
            "description_width": "",
            "_view_module": "@jupyter-widgets/base",
            "_model_module_version": "1.5.0",
            "_view_count": null,
            "_view_module_version": "1.2.0",
            "_model_module": "@jupyter-widgets/controls"
          }
        },
        "097a7bd2e4d641a9baf5eb1020cd46f9": {
          "model_module": "@jupyter-widgets/base",
          "model_name": "LayoutModel",
          "state": {
            "_view_name": "LayoutView",
            "grid_template_rows": null,
            "right": null,
            "justify_content": null,
            "_view_module": "@jupyter-widgets/base",
            "overflow": null,
            "_model_module_version": "1.2.0",
            "_view_count": null,
            "flex_flow": null,
            "width": null,
            "min_width": null,
            "border": null,
            "align_items": null,
            "bottom": null,
            "_model_module": "@jupyter-widgets/base",
            "top": null,
            "grid_column": null,
            "overflow_y": null,
            "overflow_x": null,
            "grid_auto_flow": null,
            "grid_area": null,
            "grid_template_columns": null,
            "flex": null,
            "_model_name": "LayoutModel",
            "justify_items": null,
            "grid_row": null,
            "max_height": null,
            "align_content": null,
            "visibility": null,
            "align_self": null,
            "height": null,
            "min_height": null,
            "padding": null,
            "grid_auto_rows": null,
            "grid_gap": null,
            "max_width": null,
            "order": null,
            "_view_module_version": "1.2.0",
            "grid_template_areas": null,
            "object_position": null,
            "object_fit": null,
            "grid_auto_columns": null,
            "margin": null,
            "display": null,
            "left": null
          }
        },
        "6925ed4aee4946c9a85f2e7f09de0a47": {
          "model_module": "@jupyter-widgets/controls",
          "model_name": "ButtonModel",
          "state": {
            "_view_name": "ButtonView",
            "style": "IPY_MODEL_1ec9f56f203640808f708d85e5490d4a",
            "_dom_classes": [],
            "description": "Classify",
            "_model_name": "ButtonModel",
            "button_style": "",
            "_view_module": "@jupyter-widgets/controls",
            "_model_module_version": "1.5.0",
            "tooltip": "",
            "_view_count": null,
            "disabled": false,
            "_view_module_version": "1.5.0",
            "layout": "IPY_MODEL_71e9cfaa980c41f8a10fb61f9760d741",
            "_model_module": "@jupyter-widgets/controls",
            "icon": ""
          }
        },
        "1ec9f56f203640808f708d85e5490d4a": {
          "model_module": "@jupyter-widgets/controls",
          "model_name": "ButtonStyleModel",
          "state": {
            "_view_name": "StyleView",
            "_model_name": "ButtonStyleModel",
            "_view_module": "@jupyter-widgets/base",
            "_model_module_version": "1.5.0",
            "_view_count": null,
            "button_color": null,
            "font_weight": "",
            "_view_module_version": "1.2.0",
            "_model_module": "@jupyter-widgets/controls"
          }
        },
        "71e9cfaa980c41f8a10fb61f9760d741": {
          "model_module": "@jupyter-widgets/base",
          "model_name": "LayoutModel",
          "state": {
            "_view_name": "LayoutView",
            "grid_template_rows": null,
            "right": null,
            "justify_content": null,
            "_view_module": "@jupyter-widgets/base",
            "overflow": null,
            "_model_module_version": "1.2.0",
            "_view_count": null,
            "flex_flow": null,
            "width": null,
            "min_width": null,
            "border": null,
            "align_items": null,
            "bottom": null,
            "_model_module": "@jupyter-widgets/base",
            "top": null,
            "grid_column": null,
            "overflow_y": null,
            "overflow_x": null,
            "grid_auto_flow": null,
            "grid_area": null,
            "grid_template_columns": null,
            "flex": null,
            "_model_name": "LayoutModel",
            "justify_items": null,
            "grid_row": null,
            "max_height": null,
            "align_content": null,
            "visibility": null,
            "align_self": null,
            "height": null,
            "min_height": null,
            "padding": null,
            "grid_auto_rows": null,
            "grid_gap": null,
            "max_width": null,
            "order": null,
            "_view_module_version": "1.2.0",
            "grid_template_areas": null,
            "object_position": null,
            "object_fit": null,
            "grid_auto_columns": null,
            "margin": null,
            "display": null,
            "left": null
          }
        },
        "33af4c06bbdb4419bdbe7af31f7ea54f": {
          "model_module": "@jupyter-widgets/controls",
          "model_name": "VBoxModel",
          "state": {
            "_view_name": "VBoxView",
            "_dom_classes": [],
            "_model_name": "VBoxModel",
            "_view_module": "@jupyter-widgets/controls",
            "_model_module_version": "1.5.0",
            "_view_count": null,
            "_view_module_version": "1.5.0",
            "box_style": "",
            "layout": "IPY_MODEL_f1b9b87a8415475d8429bc31786f28d1",
            "_model_module": "@jupyter-widgets/controls",
            "children": [
              "IPY_MODEL_1a3d6050af0242fdafb8385dc669f38b",
              "IPY_MODEL_cd520fda4d15408aba7e2e7def61fef6",
              "IPY_MODEL_6925ed4aee4946c9a85f2e7f09de0a47",
              "IPY_MODEL_2e33f2ed17bb44bfb933521c33ae1784",
              "IPY_MODEL_01e37ab89b734c5b8b0f3ddc638ac280"
            ]
          }
        },
        "f1b9b87a8415475d8429bc31786f28d1": {
          "model_module": "@jupyter-widgets/base",
          "model_name": "LayoutModel",
          "state": {
            "_view_name": "LayoutView",
            "grid_template_rows": null,
            "right": null,
            "justify_content": null,
            "_view_module": "@jupyter-widgets/base",
            "overflow": null,
            "_model_module_version": "1.2.0",
            "_view_count": null,
            "flex_flow": null,
            "width": null,
            "min_width": null,
            "border": null,
            "align_items": null,
            "bottom": null,
            "_model_module": "@jupyter-widgets/base",
            "top": null,
            "grid_column": null,
            "overflow_y": null,
            "overflow_x": null,
            "grid_auto_flow": null,
            "grid_area": null,
            "grid_template_columns": null,
            "flex": null,
            "_model_name": "LayoutModel",
            "justify_items": null,
            "grid_row": null,
            "max_height": null,
            "align_content": null,
            "visibility": null,
            "align_self": null,
            "height": null,
            "min_height": null,
            "padding": null,
            "grid_auto_rows": null,
            "grid_gap": null,
            "max_width": null,
            "order": null,
            "_view_module_version": "1.2.0",
            "grid_template_areas": null,
            "object_position": null,
            "object_fit": null,
            "grid_auto_columns": null,
            "margin": null,
            "display": null,
            "left": null
          }
        },
        "1a3d6050af0242fdafb8385dc669f38b": {
          "model_module": "@jupyter-widgets/controls",
          "model_name": "LabelModel",
          "state": {
            "_view_name": "LabelView",
            "style": "IPY_MODEL_8d5ecfc90cd14695b33d6dafb2eba21f",
            "_dom_classes": [],
            "description": "",
            "_model_name": "LabelModel",
            "placeholder": "​",
            "_view_module": "@jupyter-widgets/controls",
            "_model_module_version": "1.5.0",
            "value": "Upload your plant!",
            "_view_count": null,
            "_view_module_version": "1.5.0",
            "description_tooltip": null,
            "_model_module": "@jupyter-widgets/controls",
            "layout": "IPY_MODEL_3b8acd86d67e4aee968383c8613276b6"
          }
        },
        "8d5ecfc90cd14695b33d6dafb2eba21f": {
          "model_module": "@jupyter-widgets/controls",
          "model_name": "DescriptionStyleModel",
          "state": {
            "_view_name": "StyleView",
            "_model_name": "DescriptionStyleModel",
            "description_width": "",
            "_view_module": "@jupyter-widgets/base",
            "_model_module_version": "1.5.0",
            "_view_count": null,
            "_view_module_version": "1.2.0",
            "_model_module": "@jupyter-widgets/controls"
          }
        },
        "3b8acd86d67e4aee968383c8613276b6": {
          "model_module": "@jupyter-widgets/base",
          "model_name": "LayoutModel",
          "state": {
            "_view_name": "LayoutView",
            "grid_template_rows": null,
            "right": null,
            "justify_content": null,
            "_view_module": "@jupyter-widgets/base",
            "overflow": null,
            "_model_module_version": "1.2.0",
            "_view_count": null,
            "flex_flow": null,
            "width": null,
            "min_width": null,
            "border": null,
            "align_items": null,
            "bottom": null,
            "_model_module": "@jupyter-widgets/base",
            "top": null,
            "grid_column": null,
            "overflow_y": null,
            "overflow_x": null,
            "grid_auto_flow": null,
            "grid_area": null,
            "grid_template_columns": null,
            "flex": null,
            "_model_name": "LayoutModel",
            "justify_items": null,
            "grid_row": null,
            "max_height": null,
            "align_content": null,
            "visibility": null,
            "align_self": null,
            "height": null,
            "min_height": null,
            "padding": null,
            "grid_auto_rows": null,
            "grid_gap": null,
            "max_width": null,
            "order": null,
            "_view_module_version": "1.2.0",
            "grid_template_areas": null,
            "object_position": null,
            "object_fit": null,
            "grid_auto_columns": null,
            "margin": null,
            "display": null,
            "left": null
          }
        }
      }
    }
  },
  "cells": [
    {
      "cell_type": "code",
      "metadata": {
        "colab": {
          "base_uri": "https://localhost:8080/",
          "height": 1000
        },
        "id": "M5lXTALNS4Dg",
        "outputId": "803dd2f5-c5f6-4d26-8f90-63a3c9e07de8"
      },
      "source": [
        "!pip install fastai --upgrade\n",
        "!pip install -q jmd_imagescraper\n",
        "!pip install voila\n",
        "!jupyter serverextension enable voila --sys-prefix"
      ],
      "execution_count": 2,
      "outputs": [
        {
          "output_type": "stream",
          "text": [
            "Collecting fastai\n",
            "\u001b[?25l  Downloading https://files.pythonhosted.org/packages/f3/09/36d4d472d0c953f5d931f4c415f715a909793e5d222af205f3e65c034da3/fastai-2.2.5-py3-none-any.whl (191kB)\n",
            "\u001b[K     |████████████████████████████████| 194kB 8.6MB/s \n",
            "\u001b[?25hRequirement already satisfied, skipping upgrade: pandas in /usr/local/lib/python3.6/dist-packages (from fastai) (1.1.5)\n",
            "Requirement already satisfied, skipping upgrade: scipy in /usr/local/lib/python3.6/dist-packages (from fastai) (1.4.1)\n",
            "Requirement already satisfied, skipping upgrade: torchvision<0.9,>=0.8 in /usr/local/lib/python3.6/dist-packages (from fastai) (0.8.1+cu101)\n",
            "Requirement already satisfied, skipping upgrade: pyyaml in /usr/local/lib/python3.6/dist-packages (from fastai) (3.13)\n",
            "Requirement already satisfied, skipping upgrade: requests in /usr/local/lib/python3.6/dist-packages (from fastai) (2.23.0)\n",
            "Requirement already satisfied, skipping upgrade: packaging in /usr/local/lib/python3.6/dist-packages (from fastai) (20.8)\n",
            "Collecting fastcore<1.4,>=1.3.8\n",
            "\u001b[?25l  Downloading https://files.pythonhosted.org/packages/0c/98/60404e2817cff113a6ae4023bc1772e23179408fdf7857fa410551758dfe/fastcore-1.3.19-py3-none-any.whl (53kB)\n",
            "\u001b[K     |████████████████████████████████| 61kB 7.8MB/s \n",
            "\u001b[?25hRequirement already satisfied, skipping upgrade: pillow>6.0.0 in /usr/local/lib/python3.6/dist-packages (from fastai) (7.0.0)\n",
            "Requirement already satisfied, skipping upgrade: spacy in /usr/local/lib/python3.6/dist-packages (from fastai) (2.2.4)\n",
            "Requirement already satisfied, skipping upgrade: scikit-learn in /usr/local/lib/python3.6/dist-packages (from fastai) (0.22.2.post1)\n",
            "Requirement already satisfied, skipping upgrade: torch<1.8,>=1.7.0 in /usr/local/lib/python3.6/dist-packages (from fastai) (1.7.0+cu101)\n",
            "Requirement already satisfied, skipping upgrade: matplotlib in /usr/local/lib/python3.6/dist-packages (from fastai) (3.2.2)\n",
            "Requirement already satisfied, skipping upgrade: pip in /usr/local/lib/python3.6/dist-packages (from fastai) (19.3.1)\n",
            "Requirement already satisfied, skipping upgrade: fastprogress>=0.2.4 in /usr/local/lib/python3.6/dist-packages (from fastai) (1.0.0)\n",
            "Requirement already satisfied, skipping upgrade: python-dateutil>=2.7.3 in /usr/local/lib/python3.6/dist-packages (from pandas->fastai) (2.8.1)\n",
            "Requirement already satisfied, skipping upgrade: numpy>=1.15.4 in /usr/local/lib/python3.6/dist-packages (from pandas->fastai) (1.19.5)\n",
            "Requirement already satisfied, skipping upgrade: pytz>=2017.2 in /usr/local/lib/python3.6/dist-packages (from pandas->fastai) (2018.9)\n",
            "Requirement already satisfied, skipping upgrade: certifi>=2017.4.17 in /usr/local/lib/python3.6/dist-packages (from requests->fastai) (2020.12.5)\n",
            "Requirement already satisfied, skipping upgrade: idna<3,>=2.5 in /usr/local/lib/python3.6/dist-packages (from requests->fastai) (2.10)\n",
            "Requirement already satisfied, skipping upgrade: chardet<4,>=3.0.2 in /usr/local/lib/python3.6/dist-packages (from requests->fastai) (3.0.4)\n",
            "Requirement already satisfied, skipping upgrade: urllib3!=1.25.0,!=1.25.1,<1.26,>=1.21.1 in /usr/local/lib/python3.6/dist-packages (from requests->fastai) (1.24.3)\n",
            "Requirement already satisfied, skipping upgrade: pyparsing>=2.0.2 in /usr/local/lib/python3.6/dist-packages (from packaging->fastai) (2.4.7)\n",
            "Requirement already satisfied, skipping upgrade: preshed<3.1.0,>=3.0.2 in /usr/local/lib/python3.6/dist-packages (from spacy->fastai) (3.0.5)\n",
            "Requirement already satisfied, skipping upgrade: catalogue<1.1.0,>=0.0.7 in /usr/local/lib/python3.6/dist-packages (from spacy->fastai) (1.0.0)\n",
            "Requirement already satisfied, skipping upgrade: srsly<1.1.0,>=1.0.2 in /usr/local/lib/python3.6/dist-packages (from spacy->fastai) (1.0.5)\n",
            "Requirement already satisfied, skipping upgrade: wasabi<1.1.0,>=0.4.0 in /usr/local/lib/python3.6/dist-packages (from spacy->fastai) (0.8.1)\n",
            "Requirement already satisfied, skipping upgrade: setuptools in /usr/local/lib/python3.6/dist-packages (from spacy->fastai) (53.0.0)\n",
            "Requirement already satisfied, skipping upgrade: blis<0.5.0,>=0.4.0 in /usr/local/lib/python3.6/dist-packages (from spacy->fastai) (0.4.1)\n",
            "Requirement already satisfied, skipping upgrade: tqdm<5.0.0,>=4.38.0 in /usr/local/lib/python3.6/dist-packages (from spacy->fastai) (4.41.1)\n",
            "Requirement already satisfied, skipping upgrade: murmurhash<1.1.0,>=0.28.0 in /usr/local/lib/python3.6/dist-packages (from spacy->fastai) (1.0.5)\n",
            "Requirement already satisfied, skipping upgrade: plac<1.2.0,>=0.9.6 in /usr/local/lib/python3.6/dist-packages (from spacy->fastai) (1.1.3)\n",
            "Requirement already satisfied, skipping upgrade: cymem<2.1.0,>=2.0.2 in /usr/local/lib/python3.6/dist-packages (from spacy->fastai) (2.0.5)\n",
            "Requirement already satisfied, skipping upgrade: thinc==7.4.0 in /usr/local/lib/python3.6/dist-packages (from spacy->fastai) (7.4.0)\n",
            "Requirement already satisfied, skipping upgrade: joblib>=0.11 in /usr/local/lib/python3.6/dist-packages (from scikit-learn->fastai) (1.0.0)\n",
            "Requirement already satisfied, skipping upgrade: typing-extensions in /usr/local/lib/python3.6/dist-packages (from torch<1.8,>=1.7.0->fastai) (3.7.4.3)\n",
            "Requirement already satisfied, skipping upgrade: future in /usr/local/lib/python3.6/dist-packages (from torch<1.8,>=1.7.0->fastai) (0.16.0)\n",
            "Requirement already satisfied, skipping upgrade: dataclasses in /usr/local/lib/python3.6/dist-packages (from torch<1.8,>=1.7.0->fastai) (0.8)\n",
            "Requirement already satisfied, skipping upgrade: kiwisolver>=1.0.1 in /usr/local/lib/python3.6/dist-packages (from matplotlib->fastai) (1.3.1)\n",
            "Requirement already satisfied, skipping upgrade: cycler>=0.10 in /usr/local/lib/python3.6/dist-packages (from matplotlib->fastai) (0.10.0)\n",
            "Requirement already satisfied, skipping upgrade: six>=1.5 in /usr/local/lib/python3.6/dist-packages (from python-dateutil>=2.7.3->pandas->fastai) (1.15.0)\n",
            "Requirement already satisfied, skipping upgrade: importlib-metadata>=0.20; python_version < \"3.8\" in /usr/local/lib/python3.6/dist-packages (from catalogue<1.1.0,>=0.0.7->spacy->fastai) (3.4.0)\n",
            "Requirement already satisfied, skipping upgrade: zipp>=0.5 in /usr/local/lib/python3.6/dist-packages (from importlib-metadata>=0.20; python_version < \"3.8\"->catalogue<1.1.0,>=0.0.7->spacy->fastai) (3.4.0)\n",
            "Installing collected packages: fastcore, fastai\n",
            "  Found existing installation: fastai 1.0.61\n",
            "    Uninstalling fastai-1.0.61:\n",
            "      Successfully uninstalled fastai-1.0.61\n",
            "Successfully installed fastai-2.2.5 fastcore-1.3.19\n",
            "Collecting voila\n",
            "\u001b[?25l  Downloading https://files.pythonhosted.org/packages/4e/3d/7a669360baf7f9cb3e327b4ec47f56a5e04c102c6c524c07a5dff2fa8552/voila-0.2.6-py3-none-any.whl (1.9MB)\n",
            "\u001b[K     |████████████████████████████████| 1.9MB 9.1MB/s \n",
            "\u001b[?25hCollecting jupyter-client<7,>=6.1.3\n",
            "\u001b[?25l  Downloading https://files.pythonhosted.org/packages/83/d6/30aed7ef13ff3f359e99626c1b0a32ebbc3bf9b9d5616ec46e9e245d5fa9/jupyter_client-6.1.11-py3-none-any.whl (108kB)\n",
            "\u001b[K     |████████████████████████████████| 112kB 49.7MB/s \n",
            "\u001b[?25hCollecting nbconvert<7,>=6.0.0\n",
            "\u001b[?25l  Downloading https://files.pythonhosted.org/packages/13/2f/acbe7006548f3914456ee47f97a2033b1b2f3daf921b12ac94105d87c163/nbconvert-6.0.7-py3-none-any.whl (552kB)\n",
            "\u001b[K     |████████████████████████████████| 552kB 50.1MB/s \n",
            "\u001b[?25hCollecting jupyter-server<2.0.0,>=0.3.0\n",
            "\u001b[?25l  Downloading https://files.pythonhosted.org/packages/9f/fc/a28a6b99faa75fefd4399d14903030b45b0705a37d2aba7ccfdb14c5b8b7/jupyter_server-1.2.2-py3-none-any.whl (184kB)\n",
            "\u001b[K     |████████████████████████████████| 194kB 48.8MB/s \n",
            "\u001b[?25hRequirement already satisfied: nbclient<0.6,>=0.4.0 in /usr/local/lib/python3.6/dist-packages (from voila) (0.5.1)\n",
            "Requirement already satisfied: python-dateutil>=2.1 in /usr/local/lib/python3.6/dist-packages (from jupyter-client<7,>=6.1.3->voila) (2.8.1)\n",
            "Requirement already satisfied: traitlets in /usr/local/lib/python3.6/dist-packages (from jupyter-client<7,>=6.1.3->voila) (4.3.3)\n",
            "Requirement already satisfied: pyzmq>=13 in /usr/local/lib/python3.6/dist-packages (from jupyter-client<7,>=6.1.3->voila) (22.0.2)\n",
            "Requirement already satisfied: tornado>=4.1 in /usr/local/lib/python3.6/dist-packages (from jupyter-client<7,>=6.1.3->voila) (5.1.1)\n",
            "Requirement already satisfied: jupyter-core>=4.6.0 in /usr/local/lib/python3.6/dist-packages (from jupyter-client<7,>=6.1.3->voila) (4.7.0)\n",
            "Requirement already satisfied: entrypoints>=0.2.2 in /usr/local/lib/python3.6/dist-packages (from nbconvert<7,>=6.0.0->voila) (0.3)\n",
            "Requirement already satisfied: mistune<2,>=0.8.1 in /usr/local/lib/python3.6/dist-packages (from nbconvert<7,>=6.0.0->voila) (0.8.4)\n",
            "Requirement already satisfied: pygments>=2.4.1 in /usr/local/lib/python3.6/dist-packages (from nbconvert<7,>=6.0.0->voila) (2.6.1)\n",
            "Requirement already satisfied: jupyterlab-pygments in /usr/local/lib/python3.6/dist-packages (from nbconvert<7,>=6.0.0->voila) (0.1.2)\n",
            "Requirement already satisfied: jinja2>=2.4 in /usr/local/lib/python3.6/dist-packages (from nbconvert<7,>=6.0.0->voila) (2.11.2)\n",
            "Requirement already satisfied: pandocfilters>=1.4.1 in /usr/local/lib/python3.6/dist-packages (from nbconvert<7,>=6.0.0->voila) (1.4.3)\n",
            "Requirement already satisfied: testpath in /usr/local/lib/python3.6/dist-packages (from nbconvert<7,>=6.0.0->voila) (0.4.4)\n",
            "Requirement already satisfied: defusedxml in /usr/local/lib/python3.6/dist-packages (from nbconvert<7,>=6.0.0->voila) (0.6.0)\n",
            "Requirement already satisfied: bleach in /usr/local/lib/python3.6/dist-packages (from nbconvert<7,>=6.0.0->voila) (3.2.3)\n",
            "Requirement already satisfied: nbformat>=4.4 in /usr/local/lib/python3.6/dist-packages (from nbconvert<7,>=6.0.0->voila) (5.1.2)\n",
            "Collecting anyio>=2.0.2\n",
            "\u001b[?25l  Downloading https://files.pythonhosted.org/packages/d7/83/0585a2bafc0898a07f491a001520db9a7b1aaca2369f99590ff2bfe9067a/anyio-2.0.2-py3-none-any.whl (62kB)\n",
            "\u001b[K     |████████████████████████████████| 71kB 12.6MB/s \n",
            "\u001b[?25hRequirement already satisfied: terminado>=0.8.3 in /usr/local/lib/python3.6/dist-packages (from jupyter-server<2.0.0,>=0.3.0->voila) (0.9.2)\n",
            "Requirement already satisfied: prometheus-client in /usr/local/lib/python3.6/dist-packages (from jupyter-server<2.0.0,>=0.3.0->voila) (0.9.0)\n",
            "Requirement already satisfied: Send2Trash in /usr/local/lib/python3.6/dist-packages (from jupyter-server<2.0.0,>=0.3.0->voila) (1.5.0)\n",
            "Requirement already satisfied: ipython-genutils in /usr/local/lib/python3.6/dist-packages (from jupyter-server<2.0.0,>=0.3.0->voila) (0.2.0)\n",
            "Requirement already satisfied: nest-asyncio in /usr/local/lib/python3.6/dist-packages (from nbclient<0.6,>=0.4.0->voila) (1.5.1)\n",
            "Requirement already satisfied: async-generator in /usr/local/lib/python3.6/dist-packages (from nbclient<0.6,>=0.4.0->voila) (1.10)\n",
            "Requirement already satisfied: six>=1.5 in /usr/local/lib/python3.6/dist-packages (from python-dateutil>=2.1->jupyter-client<7,>=6.1.3->voila) (1.15.0)\n",
            "Requirement already satisfied: decorator in /usr/local/lib/python3.6/dist-packages (from traitlets->jupyter-client<7,>=6.1.3->voila) (4.4.2)\n",
            "Requirement already satisfied: MarkupSafe>=0.23 in /usr/local/lib/python3.6/dist-packages (from jinja2>=2.4->nbconvert<7,>=6.0.0->voila) (1.1.1)\n",
            "Requirement already satisfied: packaging in /usr/local/lib/python3.6/dist-packages (from bleach->nbconvert<7,>=6.0.0->voila) (20.8)\n",
            "Requirement already satisfied: webencodings in /usr/local/lib/python3.6/dist-packages (from bleach->nbconvert<7,>=6.0.0->voila) (0.5.1)\n",
            "Requirement already satisfied: jsonschema!=2.5.0,>=2.4 in /usr/local/lib/python3.6/dist-packages (from nbformat>=4.4->nbconvert<7,>=6.0.0->voila) (2.6.0)\n",
            "Requirement already satisfied: dataclasses; python_version < \"3.7\" in /usr/local/lib/python3.6/dist-packages (from anyio>=2.0.2->jupyter-server<2.0.0,>=0.3.0->voila) (0.8)\n",
            "Collecting sniffio>=1.1\n",
            "  Downloading https://files.pythonhosted.org/packages/52/b0/7b2e028b63d092804b6794595871f936aafa5e9322dcaaad50ebf67445b3/sniffio-1.2.0-py3-none-any.whl\n",
            "Requirement already satisfied: typing-extensions; python_version < \"3.8\" in /usr/local/lib/python3.6/dist-packages (from anyio>=2.0.2->jupyter-server<2.0.0,>=0.3.0->voila) (3.7.4.3)\n",
            "Requirement already satisfied: idna>=2.8 in /usr/local/lib/python3.6/dist-packages (from anyio>=2.0.2->jupyter-server<2.0.0,>=0.3.0->voila) (2.10)\n",
            "Requirement already satisfied: ptyprocess; os_name != \"nt\" in /usr/local/lib/python3.6/dist-packages (from terminado>=0.8.3->jupyter-server<2.0.0,>=0.3.0->voila) (0.7.0)\n",
            "Requirement already satisfied: pyparsing>=2.0.2 in /usr/local/lib/python3.6/dist-packages (from packaging->bleach->nbconvert<7,>=6.0.0->voila) (2.4.7)\n",
            "Collecting contextvars>=2.1; python_version < \"3.7\"\n",
            "  Downloading https://files.pythonhosted.org/packages/83/96/55b82d9f13763be9d672622e1b8106c85acb83edd7cc2fa5bc67cd9877e9/contextvars-2.4.tar.gz\n",
            "Collecting immutables>=0.9\n",
            "\u001b[?25l  Downloading https://files.pythonhosted.org/packages/99/e0/ea6fd4697120327d26773b5a84853f897a68e33d3f9376b00a8ff96e4f63/immutables-0.14-cp36-cp36m-manylinux1_x86_64.whl (98kB)\n",
            "\u001b[K     |████████████████████████████████| 102kB 15.1MB/s \n",
            "\u001b[?25hBuilding wheels for collected packages: contextvars\n",
            "  Building wheel for contextvars (setup.py) ... \u001b[?25l\u001b[?25hdone\n",
            "  Created wheel for contextvars: filename=contextvars-2.4-cp36-none-any.whl size=7667 sha256=afa2ca715eec23e86eea971be3c1a336a07cf33a2dac0625ccda00a6f810f3d5\n",
            "  Stored in directory: /root/.cache/pip/wheels/a5/7d/68/1ebae2668bda2228686e3c1cf16f2c2384cea6e9334ad5f6de\n",
            "Successfully built contextvars\n",
            "\u001b[31mERROR: jupyter-server 1.2.2 has requirement tornado>=6.1.0, but you'll have tornado 5.1.1 which is incompatible.\u001b[0m\n",
            "Installing collected packages: jupyter-client, nbconvert, immutables, contextvars, sniffio, anyio, jupyter-server, voila\n",
            "  Found existing installation: jupyter-client 5.3.5\n",
            "    Uninstalling jupyter-client-5.3.5:\n",
            "      Successfully uninstalled jupyter-client-5.3.5\n",
            "  Found existing installation: nbconvert 5.6.1\n",
            "    Uninstalling nbconvert-5.6.1:\n",
            "      Successfully uninstalled nbconvert-5.6.1\n",
            "Successfully installed anyio-2.0.2 contextvars-2.4 immutables-0.14 jupyter-client-6.1.11 jupyter-server-1.2.2 nbconvert-6.0.7 sniffio-1.2.0 voila-0.2.6\n"
          ],
          "name": "stdout"
        },
        {
          "output_type": "display_data",
          "data": {
            "application/vnd.colab-display-data+json": {
              "pip_warning": {
                "packages": [
                  "jupyter_client"
                ]
              }
            }
          },
          "metadata": {
            "tags": []
          }
        },
        {
          "output_type": "stream",
          "text": [
            "Enabling: voila\n",
            "- Writing config: /usr/etc/jupyter\n",
            "    - Validating...\n",
            "Error loading server extension voila\n",
            "     \u001b[31m X\u001b[0m is voila importable?\n"
          ],
          "name": "stdout"
        }
      ]
    },
    {
      "cell_type": "code",
      "metadata": {
        "id": "oBXG58APTy85"
      },
      "source": [
        "import fastai\n",
        "from fastai.vision.widgets import *\n",
        "from jmd_imagescraper.core import *\n",
        "from pathlib import Path\n",
        "from jmd_imagescraper.imagecleaner import *\n",
        "from PIL import Image"
      ],
      "execution_count": 1,
      "outputs": []
    },
    {
      "cell_type": "code",
      "metadata": {
        "id": "QpyL6plkUiFQ"
      },
      "source": [
        "plant_types = [\"wild grapes\", \"canadian moonseed\", \"poison hemlock\", \"wild carrot\"]\n",
        "path = Path().cwd()/\"poisonous plants\" #assigns path to current working directory"
      ],
      "execution_count": 2,
      "outputs": []
    },
    {
      "cell_type": "code",
      "metadata": {
        "colab": {
          "base_uri": "https://localhost:8080/",
          "height": 71
        },
        "id": "4EfaV0taUu1u",
        "outputId": "774ff1c9-3c19-4e75-d18b-66dca124a522"
      },
      "source": [
        "# using DuckDuckGo to find images and download them\n",
        "imgs = duckduckgo_search(path,\"wild grapes\", \"wild grapes\", max_results=150) "
      ],
      "execution_count": 3,
      "outputs": [
        {
          "output_type": "stream",
          "text": [
            "Duckduckgo search: wild grapes\n",
            "Downloading results into /content/poisonous plants/wild grapes\n"
          ],
          "name": "stdout"
        },
        {
          "output_type": "display_data",
          "data": {
            "text/html": [
              "\n",
              "    <div>\n",
              "        <style>\n",
              "            /* Turns off some styling */\n",
              "            progress {\n",
              "                /* gets rid of default border in Firefox and Opera. */\n",
              "                border: none;\n",
              "                /* Needs to be in here for Safari polyfill so background images work as expected. */\n",
              "                background-size: auto;\n",
              "            }\n",
              "            .progress-bar-interrupted, .progress-bar-interrupted::-webkit-progress-bar {\n",
              "                background: #F44336;\n",
              "            }\n",
              "        </style>\n",
              "      <progress value='150' class='' max='150' style='width:300px; height:20px; vertical-align: middle;'></progress>\n",
              "      100.00% [150/150 00:11<00:00 Images downloaded]\n",
              "    </div>\n",
              "    "
            ],
            "text/plain": [
              "<IPython.core.display.HTML object>"
            ]
          },
          "metadata": {
            "tags": []
          }
        }
      ]
    },
    {
      "cell_type": "code",
      "metadata": {
        "colab": {
          "base_uri": "https://localhost:8080/",
          "height": 145
        },
        "id": "9SryP2T8U7Cx",
        "outputId": "a7cde9d0-faef-483a-e104-f3582f05f959"
      },
      "source": [
        "#Take a look at the first image downloaded\n",
        "im = Image.open(imgs[10])\n",
        "im.to_thumb(128,128)"
      ],
      "execution_count": 4,
      "outputs": [
        {
          "output_type": "execute_result",
          "data": {
            "image/png": "[encoded data removed]",
            "text/plain": [
              "<PIL.Image.Image image mode=RGB size=117x128 at 0x7F8D8A672F98>"
            ]
          },
          "metadata": {
            "tags": []
          },
          "execution_count": 4
        }
      ]
    },
    {
      "cell_type": "code",
      "metadata": {
        "colab": {
          "base_uri": "https://localhost:8080/",
          "height": 1000
        },
        "id": "rTzsJ-4hVMQl",
        "outputId": "f96769cb-1f25-48fc-e312-8aa6ca728710"
      },
      "source": [
        "#download images of the other types of bears\n",
        "duckduckgo_search(path,\"canadian moonseed\", \"canadian moonseed\", max_results=150) \n",
        "duckduckgo_search(path,\"poison hemlock\", \"poison hemlock\", max_results=150)\n",
        "duckduckgo_search(path,\"wild carrot\", \"wild carrot\", max_results=150)   "
      ],
      "execution_count": 5,
      "outputs": [
        {
          "output_type": "stream",
          "text": [
            "Duckduckgo search: canadian moonseed\n",
            "Downloading results into /content/poisonous plants/canadian moonseed\n"
          ],
          "name": "stdout"
        },
        {
          "output_type": "display_data",
          "data": {
            "text/html": [
              "\n",
              "    <div>\n",
              "        <style>\n",
              "            /* Turns off some styling */\n",
              "            progress {\n",
              "                /* gets rid of default border in Firefox and Opera. */\n",
              "                border: none;\n",
              "                /* Needs to be in here for Safari polyfill so background images work as expected. */\n",
              "                background-size: auto;\n",
              "            }\n",
              "            .progress-bar-interrupted, .progress-bar-interrupted::-webkit-progress-bar {\n",
              "                background: #F44336;\n",
              "            }\n",
              "        </style>\n",
              "      <progress value='150' class='' max='150' style='width:300px; height:20px; vertical-align: middle;'></progress>\n",
              "      100.00% [150/150 00:10<00:00 Images downloaded]\n",
              "    </div>\n",
              "    "
            ],
            "text/plain": [
              "<IPython.core.display.HTML object>"
            ]
          },
          "metadata": {
            "tags": []
          }
        },
        {
          "output_type": "stream",
          "text": [
            "Duckduckgo search: poison hemlock\n",
            "Downloading results into /content/poisonous plants/poison hemlock\n"
          ],
          "name": "stdout"
        },
        {
          "output_type": "display_data",
          "data": {
            "text/html": [
              "\n",
              "    <div>\n",
              "        <style>\n",
              "            /* Turns off some styling */\n",
              "            progress {\n",
              "                /* gets rid of default border in Firefox and Opera. */\n",
              "                border: none;\n",
              "                /* Needs to be in here for Safari polyfill so background images work as expected. */\n",
              "                background-size: auto;\n",
              "            }\n",
              "            .progress-bar-interrupted, .progress-bar-interrupted::-webkit-progress-bar {\n",
              "                background: #F44336;\n",
              "            }\n",
              "        </style>\n",
              "      <progress value='150' class='' max='150' style='width:300px; height:20px; vertical-align: middle;'></progress>\n",
              "      100.00% [150/150 00:11<00:00 Images downloaded]\n",
              "    </div>\n",
              "    "
            ],
            "text/plain": [
              "<IPython.core.display.HTML object>"
            ]
          },
          "metadata": {
            "tags": []
          }
        },
        {
          "output_type": "stream",
          "text": [
            "Duckduckgo search: wild carrot\n",
            "Downloading results into /content/poisonous plants/wild carrot\n"
          ],
          "name": "stdout"
        },
        {
          "output_type": "display_data",
          "data": {
            "text/html": [
              "\n",
              "    <div>\n",
              "        <style>\n",
              "            /* Turns off some styling */\n",
              "            progress {\n",
              "                /* gets rid of default border in Firefox and Opera. */\n",
              "                border: none;\n",
              "                /* Needs to be in here for Safari polyfill so background images work as expected. */\n",
              "                background-size: auto;\n",
              "            }\n",
              "            .progress-bar-interrupted, .progress-bar-interrupted::-webkit-progress-bar {\n",
              "                background: #F44336;\n",
              "            }\n",
              "        </style>\n",
              "      <progress value='150' class='' max='150' style='width:300px; height:20px; vertical-align: middle;'></progress>\n",
              "      100.00% [150/150 00:11<00:00 Images downloaded]\n",
              "    </div>\n",
              "    "
            ],
            "text/plain": [
              "<IPython.core.display.HTML object>"
            ]
          },
          "metadata": {
            "tags": []
          }
        },
        {
          "output_type": "execute_result",
          "data": {
            "text/plain": [
              "[Path('/content/poisonous plants/wild carrot/001_1ca1bd3d.jpg'),\n",
              " Path('/content/poisonous plants/wild carrot/002_77411d5b.jpg'),\n",
              " Path('/content/poisonous plants/wild carrot/003_754afc7c.jpg'),\n",
              " Path('/content/poisonous plants/wild carrot/004_24106529.jpg'),\n",
              " Path('/content/poisonous plants/wild carrot/005_45a94386.jpg'),\n",
              " Path('/content/poisonous plants/wild carrot/006_3f0f7db6.jpg'),\n",
              " Path('/content/poisonous plants/wild carrot/007_1685072e.jpg'),\n",
              " Path('/content/poisonous plants/wild carrot/008_86d184cd.jpg'),\n",
              " Path('/content/poisonous plants/wild carrot/009_01a9e6da.jpg'),\n",
              " Path('/content/poisonous plants/wild carrot/010_1ca2f9b9.jpg'),\n",
              " Path('/content/poisonous plants/wild carrot/011_7c1d5a82.jpg'),\n",
              " Path('/content/poisonous plants/wild carrot/012_77a9dad9.jpg'),\n",
              " Path('/content/poisonous plants/wild carrot/013_40fb2444.jpg'),\n",
              " Path('/content/poisonous plants/wild carrot/014_f8ad4326.jpg'),\n",
              " Path('/content/poisonous plants/wild carrot/015_82d4ee06.jpg'),\n",
              " Path('/content/poisonous plants/wild carrot/016_1ee582bb.jpg'),\n",
              " Path('/content/poisonous plants/wild carrot/017_3e65a403.jpg'),\n",
              " Path('/content/poisonous plants/wild carrot/018_505354b5.jpg'),\n",
              " Path('/content/poisonous plants/wild carrot/019_ed431eaa.jpg'),\n",
              " Path('/content/poisonous plants/wild carrot/020_7d4753c3.jpg'),\n",
              " Path('/content/poisonous plants/wild carrot/021_b648aa0f.jpg'),\n",
              " Path('/content/poisonous plants/wild carrot/022_b072384b.jpg'),\n",
              " Path('/content/poisonous plants/wild carrot/023_98b5bded.jpg'),\n",
              " Path('/content/poisonous plants/wild carrot/024_f717d984.jpg'),\n",
              " Path('/content/poisonous plants/wild carrot/025_07f7ae20.jpg'),\n",
              " Path('/content/poisonous plants/wild carrot/026_2b5cfcbd.jpg'),\n",
              " Path('/content/poisonous plants/wild carrot/027_e4bc9eae.jpg'),\n",
              " Path('/content/poisonous plants/wild carrot/028_8b0c19e1.jpg'),\n",
              " Path('/content/poisonous plants/wild carrot/029_a40fd8b4.jpg'),\n",
              " Path('/content/poisonous plants/wild carrot/030_73653167.jpg'),\n",
              " Path('/content/poisonous plants/wild carrot/031_851ba635.jpg'),\n",
              " Path('/content/poisonous plants/wild carrot/032_3d876b25.jpg'),\n",
              " Path('/content/poisonous plants/wild carrot/033_75b053b5.jpg'),\n",
              " Path('/content/poisonous plants/wild carrot/034_309a2409.jpg'),\n",
              " Path('/content/poisonous plants/wild carrot/035_0f0402f4.jpg'),\n",
              " Path('/content/poisonous plants/wild carrot/036_9cad592d.jpg'),\n",
              " Path('/content/poisonous plants/wild carrot/037_ad6a485a.jpg'),\n",
              " Path('/content/poisonous plants/wild carrot/038_ac598fd8.jpg'),\n",
              " Path('/content/poisonous plants/wild carrot/039_5d91a6e4.jpg'),\n",
              " Path('/content/poisonous plants/wild carrot/040_5e8c494c.jpg'),\n",
              " Path('/content/poisonous plants/wild carrot/041_608345ca.jpg'),\n",
              " Path('/content/poisonous plants/wild carrot/042_35f7532f.jpg'),\n",
              " Path('/content/poisonous plants/wild carrot/043_012ec78b.jpg'),\n",
              " Path('/content/poisonous plants/wild carrot/044_97f1a151.jpg'),\n",
              " Path('/content/poisonous plants/wild carrot/045_6e519b48.jpg'),\n",
              " Path('/content/poisonous plants/wild carrot/046_eb09aab4.jpg'),\n",
              " Path('/content/poisonous plants/wild carrot/047_5b621311.jpg'),\n",
              " Path('/content/poisonous plants/wild carrot/048_0bedd584.jpg'),\n",
              " Path('/content/poisonous plants/wild carrot/049_c82f96b8.jpg'),\n",
              " Path('/content/poisonous plants/wild carrot/050_d5b0b375.jpg'),\n",
              " Path('/content/poisonous plants/wild carrot/051_1da8f7f1.jpg'),\n",
              " Path('/content/poisonous plants/wild carrot/052_2bf6523f.jpg'),\n",
              " Path('/content/poisonous plants/wild carrot/053_7ee4ff45.jpg'),\n",
              " Path('/content/poisonous plants/wild carrot/054_8366ad4a.jpg'),\n",
              " Path('/content/poisonous plants/wild carrot/055_043d21b6.jpg'),\n",
              " Path('/content/poisonous plants/wild carrot/056_df709522.jpg'),\n",
              " Path('/content/poisonous plants/wild carrot/057_57963091.jpg'),\n",
              " Path('/content/poisonous plants/wild carrot/058_89259e79.jpg'),\n",
              " Path('/content/poisonous plants/wild carrot/059_2b2c39e4.jpg'),\n",
              " Path('/content/poisonous plants/wild carrot/060_472d5beb.jpg'),\n",
              " Path('/content/poisonous plants/wild carrot/061_723819e9.jpg'),\n",
              " Path('/content/poisonous plants/wild carrot/062_08c54cbc.jpg'),\n",
              " Path('/content/poisonous plants/wild carrot/063_22c3c4a1.jpg'),\n",
              " Path('/content/poisonous plants/wild carrot/064_a7ae1bea.jpg'),\n",
              " Path('/content/poisonous plants/wild carrot/065_47909578.jpg'),\n",
              " Path('/content/poisonous plants/wild carrot/066_3fd3090b.jpg'),\n",
              " Path('/content/poisonous plants/wild carrot/067_3cac13f1.jpg'),\n",
              " Path('/content/poisonous plants/wild carrot/068_fc00018f.jpg'),\n",
              " Path('/content/poisonous plants/wild carrot/069_105dbd33.jpg'),\n",
              " Path('/content/poisonous plants/wild carrot/070_874f375d.jpg'),\n",
              " Path('/content/poisonous plants/wild carrot/071_34b5e48a.jpg'),\n",
              " Path('/content/poisonous plants/wild carrot/072_0aca83b7.jpg'),\n",
              " Path('/content/poisonous plants/wild carrot/073_872f8cdb.jpg'),\n",
              " Path('/content/poisonous plants/wild carrot/074_fa90e3dc.jpg'),\n",
              " Path('/content/poisonous plants/wild carrot/075_b32cecfb.jpg'),\n",
              " Path('/content/poisonous plants/wild carrot/076_4455ce8f.jpg'),\n",
              " Path('/content/poisonous plants/wild carrot/077_7c40f8a1.jpg'),\n",
              " Path('/content/poisonous plants/wild carrot/078_750b58f8.jpg'),\n",
              " Path('/content/poisonous plants/wild carrot/079_c614aed6.jpg'),\n",
              " Path('/content/poisonous plants/wild carrot/080_2b514594.jpg'),\n",
              " Path('/content/poisonous plants/wild carrot/081_92997a87.jpg'),\n",
              " Path('/content/poisonous plants/wild carrot/082_e26fb9a4.jpg'),\n",
              " Path('/content/poisonous plants/wild carrot/083_73ad6c70.jpg'),\n",
              " Path('/content/poisonous plants/wild carrot/084_44ed2e51.jpg'),\n",
              " Path('/content/poisonous plants/wild carrot/085_91d80135.jpg'),\n",
              " Path('/content/poisonous plants/wild carrot/086_9a2c9ce5.jpg'),\n",
              " Path('/content/poisonous plants/wild carrot/087_a46f5586.jpg'),\n",
              " Path('/content/poisonous plants/wild carrot/088_cd8ea24f.jpg'),\n",
              " Path('/content/poisonous plants/wild carrot/089_c1c7d2cb.jpg'),\n",
              " Path('/content/poisonous plants/wild carrot/090_818d806d.jpg'),\n",
              " Path('/content/poisonous plants/wild carrot/091_2b6def3f.jpg'),\n",
              " Path('/content/poisonous plants/wild carrot/092_06a85c31.jpg'),\n",
              " Path('/content/poisonous plants/wild carrot/093_b8682526.jpg'),\n",
              " Path('/content/poisonous plants/wild carrot/094_41d3da95.jpg'),\n",
              " Path('/content/poisonous plants/wild carrot/095_7fe932a0.jpg'),\n",
              " Path('/content/poisonous plants/wild carrot/096_0bb8ef57.jpg'),\n",
              " Path('/content/poisonous plants/wild carrot/097_a1992d17.jpg'),\n",
              " Path('/content/poisonous plants/wild carrot/098_f8137029.jpg'),\n",
              " Path('/content/poisonous plants/wild carrot/099_7e55d67f.jpg'),\n",
              " Path('/content/poisonous plants/wild carrot/100_f213dae9.jpg'),\n",
              " Path('/content/poisonous plants/wild carrot/101_36a1f300.jpg'),\n",
              " Path('/content/poisonous plants/wild carrot/102_36deb812.jpg'),\n",
              " Path('/content/poisonous plants/wild carrot/103_77e17441.jpg'),\n",
              " Path('/content/poisonous plants/wild carrot/104_3e7dc420.jpg'),\n",
              " Path('/content/poisonous plants/wild carrot/105_71d176e9.jpg'),\n",
              " Path('/content/poisonous plants/wild carrot/106_59a0a473.jpg'),\n",
              " Path('/content/poisonous plants/wild carrot/107_f3c25757.jpg'),\n",
              " Path('/content/poisonous plants/wild carrot/108_3d697bd2.jpg'),\n",
              " Path('/content/poisonous plants/wild carrot/109_9bdf175e.jpg'),\n",
              " Path('/content/poisonous plants/wild carrot/110_cb1a3bbf.jpg'),\n",
              " Path('/content/poisonous plants/wild carrot/111_33d1b9e1.jpg'),\n",
              " Path('/content/poisonous plants/wild carrot/112_a0f488f4.jpg'),\n",
              " Path('/content/poisonous plants/wild carrot/113_2b824eed.jpg'),\n",
              " Path('/content/poisonous plants/wild carrot/114_4c478dee.jpg'),\n",
              " Path('/content/poisonous plants/wild carrot/115_65e01554.jpg'),\n",
              " Path('/content/poisonous plants/wild carrot/116_9988d26f.jpg'),\n",
              " Path('/content/poisonous plants/wild carrot/117_cc1a3bc5.jpg'),\n",
              " Path('/content/poisonous plants/wild carrot/118_6df3a9bc.jpg'),\n",
              " Path('/content/poisonous plants/wild carrot/119_3f344728.jpg'),\n",
              " Path('/content/poisonous plants/wild carrot/120_a2fb5c93.jpg'),\n",
              " Path('/content/poisonous plants/wild carrot/121_fd844a27.jpg'),\n",
              " Path('/content/poisonous plants/wild carrot/122_e46582bf.jpg'),\n",
              " Path('/content/poisonous plants/wild carrot/123_6f81fc33.jpg'),\n",
              " Path('/content/poisonous plants/wild carrot/124_3e652319.jpg'),\n",
              " Path('/content/poisonous plants/wild carrot/125_d3156299.jpg'),\n",
              " Path('/content/poisonous plants/wild carrot/126_d1e02a2a.jpg'),\n",
              " Path('/content/poisonous plants/wild carrot/127_56ea3b0a.jpg'),\n",
              " Path('/content/poisonous plants/wild carrot/128_977e8c96.jpg'),\n",
              " Path('/content/poisonous plants/wild carrot/129_72f32819.jpg'),\n",
              " Path('/content/poisonous plants/wild carrot/130_2f31f5eb.jpg'),\n",
              " Path('/content/poisonous plants/wild carrot/131_7f8382db.jpg'),\n",
              " Path('/content/poisonous plants/wild carrot/132_e640f08a.jpg'),\n",
              " Path('/content/poisonous plants/wild carrot/133_f30a2b5c.jpg'),\n",
              " Path('/content/poisonous plants/wild carrot/134_8a60783f.jpg'),\n",
              " Path('/content/poisonous plants/wild carrot/135_628ec902.jpg'),\n",
              " Path('/content/poisonous plants/wild carrot/136_ffff350a.jpg'),\n",
              " Path('/content/poisonous plants/wild carrot/137_5ac8b641.jpg'),\n",
              " Path('/content/poisonous plants/wild carrot/138_03c2810a.jpg'),\n",
              " Path('/content/poisonous plants/wild carrot/139_efdda56e.jpg'),\n",
              " Path('/content/poisonous plants/wild carrot/140_e62e698e.jpg'),\n",
              " Path('/content/poisonous plants/wild carrot/141_b54be2ee.jpg'),\n",
              " Path('/content/poisonous plants/wild carrot/142_b95469e5.jpg'),\n",
              " Path('/content/poisonous plants/wild carrot/143_698f3605.jpg'),\n",
              " Path('/content/poisonous plants/wild carrot/144_9287d1da.jpg'),\n",
              " Path('/content/poisonous plants/wild carrot/145_7f3eb145.jpg'),\n",
              " Path('/content/poisonous plants/wild carrot/146_d9bcc0f7.jpg'),\n",
              " Path('/content/poisonous plants/wild carrot/147_69bd5623.jpg'),\n",
              " Path('/content/poisonous plants/wild carrot/148_982f204b.jpg'),\n",
              " Path('/content/poisonous plants/wild carrot/149_7f1f8dce.jpg'),\n",
              " Path('/content/poisonous plants/wild carrot/150_8c7eaa9e.jpg')]"
            ]
          },
          "metadata": {
            "tags": []
          },
          "execution_count": 5
        }
      ]
    },
    {
      "cell_type": "code",
      "metadata": {
        "colab": {
          "base_uri": "https://localhost:8080/"
        },
        "id": "mfsO6hn3BaQk",
        "outputId": "03a8fc7e-20d8-4fa1-895b-e49193cd1b02"
      },
      "source": [
        "!pip install fastbook\n",
        "import fastbook\n",
        "from fastbook import*\n",
        "fastbook.setup_book()"
      ],
      "execution_count": 6,
      "outputs": [
        {
          "output_type": "stream",
          "text": [
            "Collecting fastbook\n",
            "\u001b[?25l  Downloading https://files.pythonhosted.org/packages/f2/ff/66f16fb9ceb45646e59a38ad5eb0f05fbd6524c20d9c4a2c922cdcd2955b/fastbook-0.0.16-py3-none-any.whl (720kB)\n",
            "\u001b[K     |████████████████████████████████| 727kB 7.4MB/s \n",
            "\u001b[?25hRequirement already satisfied: packaging in /usr/local/lib/python3.6/dist-packages (from fastbook) (20.8)\n",
            "Requirement already satisfied: pandas in /usr/local/lib/python3.6/dist-packages (from fastbook) (1.1.5)\n",
            "Collecting sentencepiece\n",
            "\u001b[?25l  Downloading https://files.pythonhosted.org/packages/14/67/e42bd1181472c95c8cda79305df848264f2a7f62740995a46945d9797b67/sentencepiece-0.1.95-cp36-cp36m-manylinux2014_x86_64.whl (1.2MB)\n",
            "\u001b[K     |████████████████████████████████| 1.2MB 15.6MB/s \n",
            "\u001b[?25hRequirement already satisfied: fastai>=2.1 in /usr/local/lib/python3.6/dist-packages (from fastbook) (2.2.5)\n",
            "Requirement already satisfied: pip in /usr/local/lib/python3.6/dist-packages (from fastbook) (19.3.1)\n",
            "Collecting nbdev>=0.2.38\n",
            "\u001b[?25l  Downloading https://files.pythonhosted.org/packages/b7/81/7ae0d7f03a69601943b7f77216f014f0668286cf67ac7780b2351a962291/nbdev-1.1.12-py3-none-any.whl (46kB)\n",
            "\u001b[K     |████████████████████████████████| 51kB 9.4MB/s \n",
            "\u001b[?25hRequirement already satisfied: ipywidgets in /usr/local/lib/python3.6/dist-packages (from fastbook) (7.6.3)\n",
            "Requirement already satisfied: requests in /usr/local/lib/python3.6/dist-packages (from fastbook) (2.23.0)\n",
            "Requirement already satisfied: pyparsing>=2.0.2 in /usr/local/lib/python3.6/dist-packages (from packaging->fastbook) (2.4.7)\n",
            "Requirement already satisfied: numpy>=1.15.4 in /usr/local/lib/python3.6/dist-packages (from pandas->fastbook) (1.19.5)\n",
            "Requirement already satisfied: python-dateutil>=2.7.3 in /usr/local/lib/python3.6/dist-packages (from pandas->fastbook) (2.8.1)\n",
            "Requirement already satisfied: pytz>=2017.2 in /usr/local/lib/python3.6/dist-packages (from pandas->fastbook) (2018.9)\n",
            "Requirement already satisfied: scipy in /usr/local/lib/python3.6/dist-packages (from fastai>=2.1->fastbook) (1.4.1)\n",
            "Requirement already satisfied: torchvision<0.9,>=0.8 in /usr/local/lib/python3.6/dist-packages (from fastai>=2.1->fastbook) (0.8.1+cu101)\n",
            "Requirement already satisfied: matplotlib in /usr/local/lib/python3.6/dist-packages (from fastai>=2.1->fastbook) (3.2.2)\n",
            "Requirement already satisfied: fastprogress>=0.2.4 in /usr/local/lib/python3.6/dist-packages (from fastai>=2.1->fastbook) (1.0.0)\n",
            "Requirement already satisfied: spacy in /usr/local/lib/python3.6/dist-packages (from fastai>=2.1->fastbook) (2.2.4)\n",
            "Requirement already satisfied: fastcore<1.4,>=1.3.8 in /usr/local/lib/python3.6/dist-packages (from fastai>=2.1->fastbook) (1.3.19)\n",
            "Requirement already satisfied: torch<1.8,>=1.7.0 in /usr/local/lib/python3.6/dist-packages (from fastai>=2.1->fastbook) (1.7.0+cu101)\n",
            "Requirement already satisfied: scikit-learn in /usr/local/lib/python3.6/dist-packages (from fastai>=2.1->fastbook) (0.22.2.post1)\n",
            "Requirement already satisfied: pyyaml in /usr/local/lib/python3.6/dist-packages (from fastai>=2.1->fastbook) (3.13)\n",
            "Requirement already satisfied: pillow>6.0.0 in /usr/local/lib/python3.6/dist-packages (from fastai>=2.1->fastbook) (7.0.0)\n",
            "Requirement already satisfied: jupyter in /usr/local/lib/python3.6/dist-packages (from nbdev>=0.2.38->fastbook) (1.0.0)\n",
            "Collecting nbconvert<6\n",
            "\u001b[?25l  Downloading https://files.pythonhosted.org/packages/79/6c/05a569e9f703d18aacb89b7ad6075b404e8a4afde2c26b73ca77bb644b14/nbconvert-5.6.1-py2.py3-none-any.whl (455kB)\n",
            "\u001b[K     |████████████████████████████████| 460kB 35.0MB/s \n",
            "\u001b[?25hRequirement already satisfied: jupyter-client in /usr/local/lib/python3.6/dist-packages (from nbdev>=0.2.38->fastbook) (6.1.11)\n",
            "Requirement already satisfied: ipykernel in /usr/local/lib/python3.6/dist-packages (from nbdev>=0.2.38->fastbook) (4.10.1)\n",
            "Requirement already satisfied: nbformat>=4.4.0 in /usr/local/lib/python3.6/dist-packages (from nbdev>=0.2.38->fastbook) (5.1.2)\n",
            "Requirement already satisfied: jupyterlab-widgets>=1.0.0; python_version >= \"3.6\" in /usr/local/lib/python3.6/dist-packages (from ipywidgets->fastbook) (1.0.0)\n",
            "Requirement already satisfied: ipython>=4.0.0; python_version >= \"3.3\" in /usr/local/lib/python3.6/dist-packages (from ipywidgets->fastbook) (5.5.0)\n",
            "Requirement already satisfied: widgetsnbextension~=3.5.0 in /usr/local/lib/python3.6/dist-packages (from ipywidgets->fastbook) (3.5.1)\n",
            "Requirement already satisfied: traitlets>=4.3.1 in /usr/local/lib/python3.6/dist-packages (from ipywidgets->fastbook) (4.3.3)\n",
            "Requirement already satisfied: chardet<4,>=3.0.2 in /usr/local/lib/python3.6/dist-packages (from requests->fastbook) (3.0.4)\n",
            "Requirement already satisfied: urllib3!=1.25.0,!=1.25.1,<1.26,>=1.21.1 in /usr/local/lib/python3.6/dist-packages (from requests->fastbook) (1.24.3)\n",
            "Requirement already satisfied: certifi>=2017.4.17 in /usr/local/lib/python3.6/dist-packages (from requests->fastbook) (2020.12.5)\n",
            "Requirement already satisfied: idna<3,>=2.5 in /usr/local/lib/python3.6/dist-packages (from requests->fastbook) (2.10)\n",
            "Requirement already satisfied: six>=1.5 in /usr/local/lib/python3.6/dist-packages (from python-dateutil>=2.7.3->pandas->fastbook) (1.15.0)\n",
            "Requirement already satisfied: cycler>=0.10 in /usr/local/lib/python3.6/dist-packages (from matplotlib->fastai>=2.1->fastbook) (0.10.0)\n",
            "Requirement already satisfied: kiwisolver>=1.0.1 in /usr/local/lib/python3.6/dist-packages (from matplotlib->fastai>=2.1->fastbook) (1.3.1)\n",
            "Requirement already satisfied: tqdm<5.0.0,>=4.38.0 in /usr/local/lib/python3.6/dist-packages (from spacy->fastai>=2.1->fastbook) (4.41.1)\n",
            "Requirement already satisfied: thinc==7.4.0 in /usr/local/lib/python3.6/dist-packages (from spacy->fastai>=2.1->fastbook) (7.4.0)\n",
            "Requirement already satisfied: srsly<1.1.0,>=1.0.2 in /usr/local/lib/python3.6/dist-packages (from spacy->fastai>=2.1->fastbook) (1.0.5)\n",
            "Requirement already satisfied: catalogue<1.1.0,>=0.0.7 in /usr/local/lib/python3.6/dist-packages (from spacy->fastai>=2.1->fastbook) (1.0.0)\n",
            "Requirement already satisfied: murmurhash<1.1.0,>=0.28.0 in /usr/local/lib/python3.6/dist-packages (from spacy->fastai>=2.1->fastbook) (1.0.5)\n",
            "Requirement already satisfied: plac<1.2.0,>=0.9.6 in /usr/local/lib/python3.6/dist-packages (from spacy->fastai>=2.1->fastbook) (1.1.3)\n",
            "Requirement already satisfied: cymem<2.1.0,>=2.0.2 in /usr/local/lib/python3.6/dist-packages (from spacy->fastai>=2.1->fastbook) (2.0.5)\n",
            "Requirement already satisfied: wasabi<1.1.0,>=0.4.0 in /usr/local/lib/python3.6/dist-packages (from spacy->fastai>=2.1->fastbook) (0.8.1)\n",
            "Requirement already satisfied: setuptools in /usr/local/lib/python3.6/dist-packages (from spacy->fastai>=2.1->fastbook) (53.0.0)\n",
            "Requirement already satisfied: blis<0.5.0,>=0.4.0 in /usr/local/lib/python3.6/dist-packages (from spacy->fastai>=2.1->fastbook) (0.4.1)\n",
            "Requirement already satisfied: preshed<3.1.0,>=3.0.2 in /usr/local/lib/python3.6/dist-packages (from spacy->fastai>=2.1->fastbook) (3.0.5)\n",
            "Requirement already satisfied: dataclasses in /usr/local/lib/python3.6/dist-packages (from torch<1.8,>=1.7.0->fastai>=2.1->fastbook) (0.8)\n",
            "Requirement already satisfied: typing-extensions in /usr/local/lib/python3.6/dist-packages (from torch<1.8,>=1.7.0->fastai>=2.1->fastbook) (3.7.4.3)\n",
            "Requirement already satisfied: future in /usr/local/lib/python3.6/dist-packages (from torch<1.8,>=1.7.0->fastai>=2.1->fastbook) (0.16.0)\n",
            "Requirement already satisfied: joblib>=0.11 in /usr/local/lib/python3.6/dist-packages (from scikit-learn->fastai>=2.1->fastbook) (1.0.0)\n",
            "Requirement already satisfied: qtconsole in /usr/local/lib/python3.6/dist-packages (from jupyter->nbdev>=0.2.38->fastbook) (5.0.2)\n",
            "Requirement already satisfied: jupyter-console in /usr/local/lib/python3.6/dist-packages (from jupyter->nbdev>=0.2.38->fastbook) (5.2.0)\n",
            "Requirement already satisfied: notebook in /usr/local/lib/python3.6/dist-packages (from jupyter->nbdev>=0.2.38->fastbook) (5.3.1)\n",
            "Requirement already satisfied: defusedxml in /usr/local/lib/python3.6/dist-packages (from nbconvert<6->nbdev>=0.2.38->fastbook) (0.6.0)\n",
            "Requirement already satisfied: jinja2>=2.4 in /usr/local/lib/python3.6/dist-packages (from nbconvert<6->nbdev>=0.2.38->fastbook) (2.11.2)\n",
            "Requirement already satisfied: jupyter-core in /usr/local/lib/python3.6/dist-packages (from nbconvert<6->nbdev>=0.2.38->fastbook) (4.7.0)\n",
            "Requirement already satisfied: mistune<2,>=0.8.1 in /usr/local/lib/python3.6/dist-packages (from nbconvert<6->nbdev>=0.2.38->fastbook) (0.8.4)\n",
            "Requirement already satisfied: pandocfilters>=1.4.1 in /usr/local/lib/python3.6/dist-packages (from nbconvert<6->nbdev>=0.2.38->fastbook) (1.4.3)\n",
            "Requirement already satisfied: testpath in /usr/local/lib/python3.6/dist-packages (from nbconvert<6->nbdev>=0.2.38->fastbook) (0.4.4)\n",
            "Requirement already satisfied: bleach in /usr/local/lib/python3.6/dist-packages (from nbconvert<6->nbdev>=0.2.38->fastbook) (3.2.3)\n",
            "Requirement already satisfied: pygments in /usr/local/lib/python3.6/dist-packages (from nbconvert<6->nbdev>=0.2.38->fastbook) (2.6.1)\n",
            "Requirement already satisfied: entrypoints>=0.2.2 in /usr/local/lib/python3.6/dist-packages (from nbconvert<6->nbdev>=0.2.38->fastbook) (0.3)\n",
            "Requirement already satisfied: pyzmq>=13 in /usr/local/lib/python3.6/dist-packages (from jupyter-client->nbdev>=0.2.38->fastbook) (22.0.2)\n",
            "Requirement already satisfied: tornado>=4.1 in /usr/local/lib/python3.6/dist-packages (from jupyter-client->nbdev>=0.2.38->fastbook) (5.1.1)\n",
            "Requirement already satisfied: jsonschema!=2.5.0,>=2.4 in /usr/local/lib/python3.6/dist-packages (from nbformat>=4.4.0->nbdev>=0.2.38->fastbook) (2.6.0)\n",
            "Requirement already satisfied: ipython-genutils in /usr/local/lib/python3.6/dist-packages (from nbformat>=4.4.0->nbdev>=0.2.38->fastbook) (0.2.0)\n",
            "Requirement already satisfied: pickleshare in /usr/local/lib/python3.6/dist-packages (from ipython>=4.0.0; python_version >= \"3.3\"->ipywidgets->fastbook) (0.7.5)\n",
            "Requirement already satisfied: simplegeneric>0.8 in /usr/local/lib/python3.6/dist-packages (from ipython>=4.0.0; python_version >= \"3.3\"->ipywidgets->fastbook) (0.8.1)\n",
            "Requirement already satisfied: pexpect; sys_platform != \"win32\" in /usr/local/lib/python3.6/dist-packages (from ipython>=4.0.0; python_version >= \"3.3\"->ipywidgets->fastbook) (4.8.0)\n",
            "Requirement already satisfied: decorator in /usr/local/lib/python3.6/dist-packages (from ipython>=4.0.0; python_version >= \"3.3\"->ipywidgets->fastbook) (4.4.2)\n",
            "Requirement already satisfied: prompt-toolkit<2.0.0,>=1.0.4 in /usr/local/lib/python3.6/dist-packages (from ipython>=4.0.0; python_version >= \"3.3\"->ipywidgets->fastbook) (1.0.18)\n",
            "Requirement already satisfied: importlib-metadata>=0.20; python_version < \"3.8\" in /usr/local/lib/python3.6/dist-packages (from catalogue<1.1.0,>=0.0.7->spacy->fastai>=2.1->fastbook) (3.4.0)\n",
            "Requirement already satisfied: qtpy in /usr/local/lib/python3.6/dist-packages (from qtconsole->jupyter->nbdev>=0.2.38->fastbook) (1.9.0)\n",
            "Requirement already satisfied: Send2Trash in /usr/local/lib/python3.6/dist-packages (from notebook->jupyter->nbdev>=0.2.38->fastbook) (1.5.0)\n",
            "Requirement already satisfied: terminado>=0.8.1 in /usr/local/lib/python3.6/dist-packages (from notebook->jupyter->nbdev>=0.2.38->fastbook) (0.9.2)\n",
            "Requirement already satisfied: MarkupSafe>=0.23 in /usr/local/lib/python3.6/dist-packages (from jinja2>=2.4->nbconvert<6->nbdev>=0.2.38->fastbook) (1.1.1)\n",
            "Requirement already satisfied: webencodings in /usr/local/lib/python3.6/dist-packages (from bleach->nbconvert<6->nbdev>=0.2.38->fastbook) (0.5.1)\n",
            "Requirement already satisfied: ptyprocess>=0.5 in /usr/local/lib/python3.6/dist-packages (from pexpect; sys_platform != \"win32\"->ipython>=4.0.0; python_version >= \"3.3\"->ipywidgets->fastbook) (0.7.0)\n",
            "Requirement already satisfied: wcwidth in /usr/local/lib/python3.6/dist-packages (from prompt-toolkit<2.0.0,>=1.0.4->ipython>=4.0.0; python_version >= \"3.3\"->ipywidgets->fastbook) (0.2.5)\n",
            "Requirement already satisfied: zipp>=0.5 in /usr/local/lib/python3.6/dist-packages (from importlib-metadata>=0.20; python_version < \"3.8\"->catalogue<1.1.0,>=0.0.7->spacy->fastai>=2.1->fastbook) (3.4.0)\n",
            "\u001b[31mERROR: voila 0.2.6 has requirement nbconvert<7,>=6.0.0, but you'll have nbconvert 5.6.1 which is incompatible.\u001b[0m\n",
            "\u001b[31mERROR: jupyter-server 1.2.2 has requirement tornado>=6.1.0, but you'll have tornado 5.1.1 which is incompatible.\u001b[0m\n",
            "Installing collected packages: sentencepiece, nbconvert, nbdev, fastbook\n",
            "  Found existing installation: nbconvert 6.0.7\n",
            "    Uninstalling nbconvert-6.0.7:\n",
            "      Successfully uninstalled nbconvert-6.0.7\n",
            "Successfully installed fastbook-0.0.16 nbconvert-5.6.1 nbdev-1.1.12 sentencepiece-0.1.95\n",
            "Mounted at /content/gdrive\n"
          ],
          "name": "stdout"
        }
      ]
    },
    {
      "cell_type": "code",
      "metadata": {
        "colab": {
          "base_uri": "https://localhost:8080/"
        },
        "id": "49CVOarjBQK2",
        "outputId": "9469cedc-21a1-42c4-ff8a-15cc65813987"
      },
      "source": [
        "fns = get_image_files(path)\n",
        "fns #check that our folders has image files as we'd expect"
      ],
      "execution_count": 7,
      "outputs": [
        {
          "output_type": "execute_result",
          "data": {
            "text/plain": [
              "(#600) [Path('/content/poisonous plants/wild carrot/061_723819e9.jpg'),Path('/content/poisonous plants/wild carrot/040_5e8c494c.jpg'),Path('/content/poisonous plants/wild carrot/145_7f3eb145.jpg'),Path('/content/poisonous plants/wild carrot/083_73ad6c70.jpg'),Path('/content/poisonous plants/wild carrot/052_2bf6523f.jpg'),Path('/content/poisonous plants/wild carrot/054_8366ad4a.jpg'),Path('/content/poisonous plants/wild carrot/021_b648aa0f.jpg'),Path('/content/poisonous plants/wild carrot/012_77a9dad9.jpg'),Path('/content/poisonous plants/wild carrot/006_3f0f7db6.jpg'),Path('/content/poisonous plants/wild carrot/090_818d806d.jpg')...]"
            ]
          },
          "metadata": {
            "tags": []
          },
          "execution_count": 7
        }
      ]
    },
    {
      "cell_type": "code",
      "metadata": {
        "id": "JU9wu1NpBRAF"
      },
      "source": [
        "class DataLoaders(GetAttr):\n",
        "  def __init__(self, *loaders):\n",
        "    self.loaders = loaders\n",
        "  def __getitem__(self, i):\n",
        "    return self.loaders[i]\n",
        "  train, valid = add_props(lambda i, self: self[i])"
      ],
      "execution_count": 8,
      "outputs": []
    },
    {
      "cell_type": "code",
      "metadata": {
        "id": "pHbRDIi1BzTg"
      },
      "source": [
        "plants = DataBlock(\n",
        "    blocks=(ImageBlock, CategoryBlock), #specify types for independent and dependent variables\n",
        "    get_items=get_image_files, #takes a path and returns a list of all images in that path\n",
        "    splitter = RandomSplitter(valid_pct = 0.2, seed = 1), # Create a validation and test set\n",
        "    get_y=parent_label, # labels the images based on the foler they were in\n",
        "    item_tfms=Resize(128) #resize images to a specific size\n",
        ")"
      ],
      "execution_count": 9,
      "outputs": []
    },
    {
      "cell_type": "code",
      "metadata": {
        "colab": {
          "base_uri": "https://localhost:8080/",
          "height": 236
        },
        "id": "2hshb1_cB0Vw",
        "outputId": "29e33f96-8187-4ecf-f6b8-cd3cbf592f18"
      },
      "source": [
        "plants = plants.new(\n",
        "    item_tfms = RandomResizedCrop(224,min_scale=0.5),\n",
        "    batch_tfms= aug_transforms()\n",
        ")\n",
        "\n",
        "dls = plants.dataloaders(path)\n",
        "\n",
        "learn = cnn_learner(dls, resnet34 ,metrics=error_rate)\n",
        "learn.fine_tune(4)"
      ],
      "execution_count": 15,
      "outputs": [
        {
          "output_type": "display_data",
          "data": {
            "text/html": [
              "<table border=\"1\" class=\"dataframe\">\n",
              "  <thead>\n",
              "    <tr style=\"text-align: left;\">\n",
              "      <th>epoch</th>\n",
              "      <th>train_loss</th>\n",
              "      <th>valid_loss</th>\n",
              "      <th>error_rate</th>\n",
              "      <th>time</th>\n",
              "    </tr>\n",
              "  </thead>\n",
              "  <tbody>\n",
              "    <tr>\n",
              "      <td>0</td>\n",
              "      <td>2.218012</td>\n",
              "      <td>1.309026</td>\n",
              "      <td>0.458333</td>\n",
              "      <td>00:04</td>\n",
              "    </tr>\n",
              "  </tbody>\n",
              "</table>"
            ],
            "text/plain": [
              "<IPython.core.display.HTML object>"
            ]
          },
          "metadata": {
            "tags": []
          }
        },
        {
          "output_type": "display_data",
          "data": {
            "text/html": [
              "<table border=\"1\" class=\"dataframe\">\n",
              "  <thead>\n",
              "    <tr style=\"text-align: left;\">\n",
              "      <th>epoch</th>\n",
              "      <th>train_loss</th>\n",
              "      <th>valid_loss</th>\n",
              "      <th>error_rate</th>\n",
              "      <th>time</th>\n",
              "    </tr>\n",
              "  </thead>\n",
              "  <tbody>\n",
              "    <tr>\n",
              "      <td>0</td>\n",
              "      <td>1.298154</td>\n",
              "      <td>0.908277</td>\n",
              "      <td>0.291667</td>\n",
              "      <td>00:05</td>\n",
              "    </tr>\n",
              "    <tr>\n",
              "      <td>1</td>\n",
              "      <td>1.104782</td>\n",
              "      <td>0.759103</td>\n",
              "      <td>0.250000</td>\n",
              "      <td>00:05</td>\n",
              "    </tr>\n",
              "    <tr>\n",
              "      <td>2</td>\n",
              "      <td>0.887526</td>\n",
              "      <td>0.716961</td>\n",
              "      <td>0.233333</td>\n",
              "      <td>00:05</td>\n",
              "    </tr>\n",
              "    <tr>\n",
              "      <td>3</td>\n",
              "      <td>0.757396</td>\n",
              "      <td>0.704383</td>\n",
              "      <td>0.250000</td>\n",
              "      <td>00:05</td>\n",
              "    </tr>\n",
              "  </tbody>\n",
              "</table>"
            ],
            "text/plain": [
              "<IPython.core.display.HTML object>"
            ]
          },
          "metadata": {
            "tags": []
          }
        }
      ]
    },
    {
      "cell_type": "code",
      "metadata": {
        "colab": {
          "base_uri": "https://localhost:8080/",
          "height": 310
        },
        "id": "R_V4hFDXDDAz",
        "outputId": "5ddb7fcc-d99e-428e-c0a7-fd425db73b61"
      },
      "source": [
        "interp = ClassificationInterpretation.from_learner(learn)\n",
        "interp.plot_confusion_matrix()"
      ],
      "execution_count": 16,
      "outputs": [
        {
          "output_type": "display_data",
          "data": {
            "text/html": [
              ""
            ],
            "text/plain": [
              "<IPython.core.display.HTML object>"
            ]
          },
          "metadata": {
            "tags": []
          }
        },
        {
          "output_type": "display_data",
          "data": {
            "image/png": "[encoded data removed]",
            "text/plain": [
              "<Figure size 432x288 with 1 Axes>"
            ]
          },
          "metadata": {
            "tags": [],
            "needs_background": "light"
          }
        }
      ]
    },
    {
      "cell_type": "code",
      "metadata": {
        "id": "8gbBqT1QF8pN"
      },
      "source": [
        "learn.export() #saves model archeticture and parameters"
      ],
      "execution_count": 18,
      "outputs": []
    },
    {
      "cell_type": "code",
      "metadata": {
        "colab": {
          "base_uri": "https://localhost:8080/"
        },
        "id": "ae7Eaa7BF-u0",
        "outputId": "3f1479ac-3a36-46b5-f453-c704474f715f"
      },
      "source": [
        "#checking that the file exists\n",
        "path = Path()\n",
        "path.ls(file_exts=\".pkl\")"
      ],
      "execution_count": 19,
      "outputs": [
        {
          "output_type": "execute_result",
          "data": {
            "text/plain": [
              "(#1) [Path('export.pkl')]"
            ]
          },
          "metadata": {
            "tags": []
          },
          "execution_count": 19
        }
      ]
    },
    {
      "cell_type": "code",
      "metadata": {
        "id": "XpN0Sg3hGAqT"
      },
      "source": [
        "#time to perform inference\n",
        "learn_inf = load_learner(path/\"export.pkl\")"
      ],
      "execution_count": 20,
      "outputs": []
    },
    {
      "cell_type": "code",
      "metadata": {
        "colab": {
          "base_uri": "https://localhost:8080/",
          "height": 68
        },
        "id": "CWOOv3QrGBWb",
        "outputId": "76f226b2-0eb1-4efa-dfaf-b11e9ed81ea1"
      },
      "source": [
        "learn_inf.predict(\"/content/poisonous plants/wild carrot/001_1ca1bd3d.jpg\")"
      ],
      "execution_count": 22,
      "outputs": [
        {
          "output_type": "display_data",
          "data": {
            "text/html": [
              ""
            ],
            "text/plain": [
              "<IPython.core.display.HTML object>"
            ]
          },
          "metadata": {
            "tags": []
          }
        },
        {
          "output_type": "execute_result",
          "data": {
            "text/plain": [
              "('wild carrot',\n",
              " tensor(2),\n",
              " tensor([2.5353e-02, 1.0994e-01, 8.6390e-01, 8.0881e-04]))"
            ]
          },
          "metadata": {
            "tags": []
          },
          "execution_count": 22
        }
      ]
    },
    {
      "cell_type": "code",
      "metadata": {
        "colab": {
          "base_uri": "https://localhost:8080/",
          "height": 49,
          "referenced_widgets": [
            "cd520fda4d15408aba7e2e7def61fef6",
            "593112fd1cb24d679eb3d7182d33e223",
            "b505f3df5f9c4088954fd8b532b0b94c"
          ]
        },
        "id": "7-iOowjnGTvP",
        "outputId": "3feef123-7984-4119-b97b-4ebb441045f4"
      },
      "source": [
        "photo_upload = widgets.FileUpload()\n",
        "photo_upload"
      ],
      "execution_count": 23,
      "outputs": [
        {
          "output_type": "display_data",
          "data": {
            "application/vnd.jupyter.widget-view+json": {
              "model_id": "cd520fda4d15408aba7e2e7def61fef6",
              "version_minor": 0,
              "version_major": 2
            },
            "text/plain": [
              "FileUpload(value={}, description='Upload')"
            ]
          },
          "metadata": {
            "tags": []
          }
        }
      ]
    },
    {
      "cell_type": "code",
      "metadata": {
        "id": "mE7YvkXnGXNd"
      },
      "source": [
        "img = PILImage.create(photo_upload.data[0])"
      ],
      "execution_count": 24,
      "outputs": []
    },
    {
      "cell_type": "code",
      "metadata": {
        "colab": {
          "base_uri": "https://localhost:8080/",
          "height": 102,
          "referenced_widgets": [
            "2e33f2ed17bb44bfb933521c33ae1784",
            "b65ebe55f67d435b9823f0f54440835e"
          ]
        },
        "id": "n_XXa_FSGYgs",
        "outputId": "a267c1ef-b48e-45c7-a460-af51d6123c01"
      },
      "source": [
        "out_pl = widgets.Output()\n",
        "out_pl.clear_output()\n",
        "with out_pl:\n",
        "  display(img.to_thumb(128,128))\n",
        "out_pl"
      ],
      "execution_count": 25,
      "outputs": [
        {
          "output_type": "display_data",
          "data": {
            "application/vnd.jupyter.widget-view+json": {
              "model_id": "2e33f2ed17bb44bfb933521c33ae1784",
              "version_minor": 0,
              "version_major": 2
            },
            "text/plain": [
              "Output()"
            ]
          },
          "metadata": {
            "tags": []
          }
        }
      ]
    },
    {
      "cell_type": "code",
      "metadata": {
        "colab": {
          "base_uri": "https://localhost:8080/",
          "height": 17
        },
        "id": "Y8wAGYbHGblM",
        "outputId": "43d65374-ec8e-4e27-ab29-2d7d300028a5"
      },
      "source": [
        "pred, pred_idx, probs = learn_inf.predict(img)"
      ],
      "execution_count": 26,
      "outputs": [
        {
          "output_type": "display_data",
          "data": {
            "text/html": [
              ""
            ],
            "text/plain": [
              "<IPython.core.display.HTML object>"
            ]
          },
          "metadata": {
            "tags": []
          }
        }
      ]
    },
    {
      "cell_type": "code",
      "metadata": {
        "colab": {
          "base_uri": "https://localhost:8080/",
          "height": 49,
          "referenced_widgets": [
            "01e37ab89b734c5b8b0f3ddc638ac280",
            "f651b01c13554332b55dc843fcd18d33",
            "097a7bd2e4d641a9baf5eb1020cd46f9"
          ]
        },
        "id": "0NIu_5dUGeyi",
        "outputId": "7620ea97-5043-4204-fcb8-e6d69af3a284"
      },
      "source": [
        "lbl_pred = widgets.Label()\n",
        "lbl_pred.value = f\"Prediction: {pred}; Probability: {probs[pred_idx]:.04f}\"\n",
        "lbl_pred"
      ],
      "execution_count": 27,
      "outputs": [
        {
          "output_type": "display_data",
          "data": {
            "application/vnd.jupyter.widget-view+json": {
              "model_id": "01e37ab89b734c5b8b0f3ddc638ac280",
              "version_minor": 0,
              "version_major": 2
            },
            "text/plain": [
              "Label(value='Prediction: wild grapes; Probability: 0.9865')"
            ]
          },
          "metadata": {
            "tags": []
          }
        }
      ]
    },
    {
      "cell_type": "code",
      "metadata": {
        "colab": {
          "base_uri": "https://localhost:8080/",
          "height": 49,
          "referenced_widgets": [
            "6925ed4aee4946c9a85f2e7f09de0a47",
            "1ec9f56f203640808f708d85e5490d4a",
            "71e9cfaa980c41f8a10fb61f9760d741"
          ]
        },
        "id": "8xKIfQooGiQJ",
        "outputId": "1e2d0f02-b267-4457-ebbe-c1426a726ad5"
      },
      "source": [
        "btn_run = widgets.Button(description=\"Classify\")\n",
        "btn_run"
      ],
      "execution_count": 28,
      "outputs": [
        {
          "output_type": "display_data",
          "data": {
            "application/vnd.jupyter.widget-view+json": {
              "model_id": "6925ed4aee4946c9a85f2e7f09de0a47",
              "version_minor": 0,
              "version_major": 2
            },
            "text/plain": [
              "Button(description='Classify', style=ButtonStyle())"
            ]
          },
          "metadata": {
            "tags": []
          }
        }
      ]
    },
    {
      "cell_type": "code",
      "metadata": {
        "id": "4DAr8IzgGO8K"
      },
      "source": [
        "def on_click_classify(change):\n",
        "  img = PILImage.create(photo_upload.data[-1])\n",
        "  out_pl.clear_output()\n",
        "  with out_pl:\n",
        "    display(img.to_thumb(224,224))\n",
        "  pred, pred_idx, probs = learn_inf.predict(img)\n",
        "  lbl_pred.value = f\"Prediction: {pred}; Probability: {probs[pred_idx]:.04f}\"\n",
        "\n",
        "btn_run.on_click(on_click_classify)"
      ],
      "execution_count": 29,
      "outputs": []
    },
    {
      "cell_type": "code",
      "metadata": {
        "colab": {
          "base_uri": "https://localhost:8080/",
          "height": 230,
          "referenced_widgets": [
            "33af4c06bbdb4419bdbe7af31f7ea54f",
            "f1b9b87a8415475d8429bc31786f28d1",
            "1a3d6050af0242fdafb8385dc669f38b",
            "cd520fda4d15408aba7e2e7def61fef6",
            "6925ed4aee4946c9a85f2e7f09de0a47",
            "2e33f2ed17bb44bfb933521c33ae1784",
            "01e37ab89b734c5b8b0f3ddc638ac280",
            "8d5ecfc90cd14695b33d6dafb2eba21f",
            "3b8acd86d67e4aee968383c8613276b6",
            "593112fd1cb24d679eb3d7182d33e223",
            "b505f3df5f9c4088954fd8b532b0b94c",
            "1ec9f56f203640808f708d85e5490d4a",
            "71e9cfaa980c41f8a10fb61f9760d741",
            "f651b01c13554332b55dc843fcd18d33",
            "097a7bd2e4d641a9baf5eb1020cd46f9",
            "b65ebe55f67d435b9823f0f54440835e"
          ]
        },
        "id": "KsRHNmgUGlYC",
        "outputId": "4c42f6ca-b9b8-4a0c-c3fa-24044c4ee014"
      },
      "source": [
        "VBox([widgets.Label(\"Upload your plant!\"),\n",
        "     photo_upload, btn_run, out_pl, lbl_pred])"
      ],
      "execution_count": 30,
      "outputs": [
        {
          "output_type": "display_data",
          "data": {
            "application/vnd.jupyter.widget-view+json": {
              "model_id": "33af4c06bbdb4419bdbe7af31f7ea54f",
              "version_minor": 0,
              "version_major": 2
            },
            "text/plain": [
              "VBox(children=(Label(value='Upload your plant!'), FileUpload(value={'wild-grapes.jpg': {'metadata': {'lastModi…"
            ]
          },
          "metadata": {
            "tags": []
          }
        }
      ]
    }
  ]
}